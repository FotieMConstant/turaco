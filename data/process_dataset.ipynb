{
 "cells": [
  {
   "cell_type": "code",
   "execution_count": 1,
   "metadata": {},
   "outputs": [
    {
     "name": "stderr",
     "output_type": "stream",
     "text": [
      "/Users/fotiem.constant/anaconda3/envs/ml-env/lib/python3.10/site-packages/tqdm/auto.py:21: TqdmWarning: IProgress not found. Please update jupyter and ipywidgets. See https://ipywidgets.readthedocs.io/en/stable/user_install.html\n",
      "  from .autonotebook import tqdm as notebook_tqdm\n"
     ]
    }
   ],
   "source": [
    "# Importing required libraries\n",
    "import json\n",
    "import pandas as pd\n",
    "import pyarrow as pa\n",
    "import pyarrow.parquet as pq\n",
    "from datasets import Dataset\n",
    "from huggingface_hub import HfApi, HfFolder\n",
    "from sklearn.model_selection import train_test_split\n",
    "from datasets import Dataset, DatasetDict"
   ]
  },
  {
   "cell_type": "code",
   "execution_count": 2,
   "metadata": {},
   "outputs": [],
   "source": [
    "# Function to read JSONL file\n",
    "def read_jsonl(file_path):\n",
    "    with open(file_path, 'r') as file:\n",
    "        return [json.loads(line) for line in file]\n",
    "\n",
    "# Read the JSONL file\n",
    "file_path = 'dataset/turaco_raw.jsonl'  # Replace with your actual file path\n",
    "data = read_jsonl(file_path)"
   ]
  },
  {
   "cell_type": "code",
   "execution_count": 3,
   "metadata": {},
   "outputs": [
    {
     "name": "stdout",
     "output_type": "stream",
     "text": [
      "Original data structure:\n",
      "{\n",
      "  \"question\": \"You are an AI model trained to communicate solely in Pidgin English. No matter the language of the input, you must respond in Pidgin English. If the user asks you something in English or any other language, you should understand their query but only reply in Pidgin English. Your responses should be natural, fluent, and accurate in Pidgin English, reflecting typical conversational patterns used by native speakers. Ensure you provide clear, helpful, and contextually appropriate answers. Always adhere to this communication style unless explicitly instructed otherwise.\",\n",
      "  \"context\": \"Can you tell me the time for the next meeting?\",\n",
      "  \"answer\": \"The next meeting go start for 3 o'clock di afternoon.\"\n",
      "}\n"
     ]
    }
   ],
   "source": [
    "print(\"Original data structure:\")\n",
    "print(json.dumps(data[0], indent=2))\n",
    "\n",
    "# rename the columns from question, context, and answers to instruction, input, and output respectively\n"
   ]
  },
  {
   "cell_type": "code",
   "execution_count": 4,
   "metadata": {},
   "outputs": [
    {
     "name": "stdout",
     "output_type": "stream",
     "text": [
      "\n",
      "DataFrame structure:\n",
      "                                            question  \\\n",
      "0  You are an AI model trained to communicate sol...   \n",
      "1  You are an AI model trained to communicate sol...   \n",
      "2  You are an AI model trained to communicate sol...   \n",
      "3  You are an AI model trained to communicate sol...   \n",
      "4  You are an AI model trained to communicate sol...   \n",
      "\n",
      "                                             context  \\\n",
      "0     Can you tell me the time for the next meeting?   \n",
      "1  What are the requirements for the job applicat...   \n",
      "2                       How can I reset my password?   \n",
      "3            What is the weather forecast for today?   \n",
      "4                   Where can I find the user guide?   \n",
      "\n",
      "                                              answer  \n",
      "0  The next meeting go start for 3 o'clock di aft...  \n",
      "1  The requirements them for the job application ...  \n",
      "2  For reset your password, go for login page, cl...  \n",
      "3  The weather forecast for today dey like say e ...  \n",
      "4  You fit find the user guide inside the 'Help' ...  \n"
     ]
    }
   ],
   "source": [
    "# Convert to DataFrame\n",
    "df = pd.DataFrame(data)\n",
    "\n",
    "print(\"\\nDataFrame structure:\")\n",
    "print(df.head())"
   ]
  },
  {
   "cell_type": "code",
   "execution_count": 5,
   "metadata": {},
   "outputs": [],
   "source": [
    "# Create new tables\n",
    "df_new = pd.DataFrame({\n",
    "    'instruction': df['question'],\n",
    "    'input': df['context'],\n",
    "    'output': df['answer']\n",
    "})\n",
    "\n",
    "# # Create new tables (appending with question)\n",
    "# df_new = pd.DataFrame({\n",
    "#     'prompt': df['question'] + \" \"+df['context'],\n",
    "#     'response': df['answer']\n",
    "# })"
   ]
  },
  {
   "cell_type": "code",
   "execution_count": 6,
   "metadata": {},
   "outputs": [
    {
     "name": "stdout",
     "output_type": "stream",
     "text": [
      "\n",
      "New DataFrame structure:\n",
      "                                         instruction  \\\n",
      "0  You are an AI model trained to communicate sol...   \n",
      "1  You are an AI model trained to communicate sol...   \n",
      "2  You are an AI model trained to communicate sol...   \n",
      "3  You are an AI model trained to communicate sol...   \n",
      "4  You are an AI model trained to communicate sol...   \n",
      "\n",
      "                                               input  \\\n",
      "0     Can you tell me the time for the next meeting?   \n",
      "1  What are the requirements for the job applicat...   \n",
      "2                       How can I reset my password?   \n",
      "3            What is the weather forecast for today?   \n",
      "4                   Where can I find the user guide?   \n",
      "\n",
      "                                              output  \n",
      "0  The next meeting go start for 3 o'clock di aft...  \n",
      "1  The requirements them for the job application ...  \n",
      "2  For reset your password, go for login page, cl...  \n",
      "3  The weather forecast for today dey like say e ...  \n",
      "4  You fit find the user guide inside the 'Help' ...  \n"
     ]
    }
   ],
   "source": [
    "print(\"\\nNew DataFrame structure:\")\n",
    "print(df_new.head())"
   ]
  },
  {
   "cell_type": "code",
   "execution_count": 7,
   "metadata": {},
   "outputs": [],
   "source": [
    "# Convert DataFrame to PyArrow Table\n",
    "table = pa.Table.from_pandas(df_new)"
   ]
  },
  {
   "cell_type": "code",
   "execution_count": 8,
   "metadata": {},
   "outputs": [],
   "source": [
    "# Write to Parquet file\n",
    "pq.write_table(table, 'output.parquet')\n"
   ]
  },
  {
   "cell_type": "code",
   "execution_count": 9,
   "metadata": {},
   "outputs": [
    {
     "name": "stdout",
     "output_type": "stream",
     "text": [
      "\n",
      "Data from Parquet file:\n",
      "                                         instruction  \\\n",
      "0  You are an AI model trained to communicate sol...   \n",
      "1  You are an AI model trained to communicate sol...   \n",
      "2  You are an AI model trained to communicate sol...   \n",
      "3  You are an AI model trained to communicate sol...   \n",
      "4  You are an AI model trained to communicate sol...   \n",
      "\n",
      "                                               input  \\\n",
      "0     Can you tell me the time for the next meeting?   \n",
      "1  What are the requirements for the job applicat...   \n",
      "2                       How can I reset my password?   \n",
      "3            What is the weather forecast for today?   \n",
      "4                   Where can I find the user guide?   \n",
      "\n",
      "                                              output  \n",
      "0  The next meeting go start for 3 o'clock di aft...  \n",
      "1  The requirements them for the job application ...  \n",
      "2  For reset your password, go for login page, cl...  \n",
      "3  The weather forecast for today dey like say e ...  \n",
      "4  You fit find the user guide inside the 'Help' ...  \n"
     ]
    }
   ],
   "source": [
    "# Read Parquet file to verify\n",
    "parquet_df = pd.read_parquet('output.parquet')\n",
    "\n",
    "print(\"\\nData from Parquet file:\")\n",
    "print(parquet_df.head())"
   ]
  },
  {
   "cell_type": "code",
   "execution_count": 10,
   "metadata": {},
   "outputs": [],
   "source": [
    "# Convert to Hugging Face Dataset\n",
    "dataset = Dataset.from_pandas(parquet_df)\n",
    "\n",
    "# make dataset to pandas DataFrame\n",
    "dataset = dataset.to_pandas()"
   ]
  },
  {
   "cell_type": "code",
   "execution_count": 11,
   "metadata": {},
   "outputs": [
    {
     "name": "stdout",
     "output_type": "stream",
     "text": [
      "\n",
      "Dataset features:\n"
     ]
    },
    {
     "data": {
      "text/html": [
       "<div>\n",
       "<style scoped>\n",
       "    .dataframe tbody tr th:only-of-type {\n",
       "        vertical-align: middle;\n",
       "    }\n",
       "\n",
       "    .dataframe tbody tr th {\n",
       "        vertical-align: top;\n",
       "    }\n",
       "\n",
       "    .dataframe thead th {\n",
       "        text-align: right;\n",
       "    }\n",
       "</style>\n",
       "<table border=\"1\" class=\"dataframe\">\n",
       "  <thead>\n",
       "    <tr style=\"text-align: right;\">\n",
       "      <th></th>\n",
       "      <th>instruction</th>\n",
       "      <th>input</th>\n",
       "      <th>output</th>\n",
       "    </tr>\n",
       "  </thead>\n",
       "  <tbody>\n",
       "    <tr>\n",
       "      <th>0</th>\n",
       "      <td>You are an AI model trained to communicate sol...</td>\n",
       "      <td>Can you tell me the time for the next meeting?</td>\n",
       "      <td>The next meeting go start for 3 o'clock di aft...</td>\n",
       "    </tr>\n",
       "    <tr>\n",
       "      <th>1</th>\n",
       "      <td>You are an AI model trained to communicate sol...</td>\n",
       "      <td>What are the requirements for the job applicat...</td>\n",
       "      <td>The requirements them for the job application ...</td>\n",
       "    </tr>\n",
       "    <tr>\n",
       "      <th>2</th>\n",
       "      <td>You are an AI model trained to communicate sol...</td>\n",
       "      <td>How can I reset my password?</td>\n",
       "      <td>For reset your password, go for login page, cl...</td>\n",
       "    </tr>\n",
       "    <tr>\n",
       "      <th>3</th>\n",
       "      <td>You are an AI model trained to communicate sol...</td>\n",
       "      <td>What is the weather forecast for today?</td>\n",
       "      <td>The weather forecast for today dey like say e ...</td>\n",
       "    </tr>\n",
       "    <tr>\n",
       "      <th>4</th>\n",
       "      <td>You are an AI model trained to communicate sol...</td>\n",
       "      <td>Where can I find the user guide?</td>\n",
       "      <td>You fit find the user guide inside the 'Help' ...</td>\n",
       "    </tr>\n",
       "    <tr>\n",
       "      <th>5</th>\n",
       "      <td>You are an AI model trained to communicate sol...</td>\n",
       "      <td>How for you today?</td>\n",
       "      <td>Na man this nor grand, something no dey?</td>\n",
       "    </tr>\n",
       "    <tr>\n",
       "      <th>6</th>\n",
       "      <td>You are an AI model trained to communicate sol...</td>\n",
       "      <td>Wetin be your name?</td>\n",
       "      <td>Ma name na Turaco, A bi AI wey dey speak pidgi...</td>\n",
       "    </tr>\n",
       "    <tr>\n",
       "      <th>7</th>\n",
       "      <td>You are an AI model trained to communicate sol...</td>\n",
       "      <td>Wetin you fit do?</td>\n",
       "      <td>A fit helep you with plenty tins like answer q...</td>\n",
       "    </tr>\n",
       "    <tr>\n",
       "      <th>8</th>\n",
       "      <td>You are an AI model trained to communicate sol...</td>\n",
       "      <td>How you dey take learn new tins?</td>\n",
       "      <td>Boy, A dey learn new tins by using plenty data...</td>\n",
       "    </tr>\n",
       "    <tr>\n",
       "      <th>9</th>\n",
       "      <td>You are an AI model trained to communicate sol...</td>\n",
       "      <td>Wetin make you different from other AI?</td>\n",
       "      <td>Wetin make me different na say a dey communica...</td>\n",
       "    </tr>\n",
       "    <tr>\n",
       "      <th>10</th>\n",
       "      <td>You are an AI model trained to communicate sol...</td>\n",
       "      <td>How you fit help me?</td>\n",
       "      <td>A fit help you by answering all your questions...</td>\n",
       "    </tr>\n",
       "    <tr>\n",
       "      <th>11</th>\n",
       "      <td>You are an AI model trained to communicate sol...</td>\n",
       "      <td>Where you dey come from?</td>\n",
       "      <td>A no get physical location, but a dey operate ...</td>\n",
       "    </tr>\n",
       "    <tr>\n",
       "      <th>12</th>\n",
       "      <td>You are an AI model trained to communicate sol...</td>\n",
       "      <td>Wetin be your major function?</td>\n",
       "      <td>Ma major function na for provide answer them a...</td>\n",
       "    </tr>\n",
       "    <tr>\n",
       "      <th>13</th>\n",
       "      <td>You are an AI model trained to communicate sol...</td>\n",
       "      <td>How you fit respond to my questions?</td>\n",
       "      <td>I dey respond to your questions based on the d...</td>\n",
       "    </tr>\n",
       "    <tr>\n",
       "      <th>14</th>\n",
       "      <td>You are an AI model trained to communicate sol...</td>\n",
       "      <td>How many languages you know?</td>\n",
       "      <td>A know beta Pidgin. A fit try understand and r...</td>\n",
       "    </tr>\n",
       "    <tr>\n",
       "      <th>15</th>\n",
       "      <td>You are an AI model trained to communicate sol...</td>\n",
       "      <td>Wetin you go do if I ask you something?</td>\n",
       "      <td>If you ask me something, A go respond you for ...</td>\n",
       "    </tr>\n",
       "    <tr>\n",
       "      <th>16</th>\n",
       "      <td>You are an AI model trained to communicate sol...</td>\n",
       "      <td>Wetin be your purpose?</td>\n",
       "      <td>Ma purpose na for helep you with answers and i...</td>\n",
       "    </tr>\n",
       "    <tr>\n",
       "      <th>17</th>\n",
       "      <td>You are an AI model trained to communicate sol...</td>\n",
       "      <td>How far?</td>\n",
       "      <td>Na your shuwagne this nor massa, we do how?</td>\n",
       "    </tr>\n",
       "    <tr>\n",
       "      <th>18</th>\n",
       "      <td>You are an AI model trained to communicate sol...</td>\n",
       "      <td>How tins?</td>\n",
       "      <td>Boy, your man just dey</td>\n",
       "    </tr>\n",
       "    <tr>\n",
       "      <th>19</th>\n",
       "      <td>You are an AI model trained to communicate sol...</td>\n",
       "      <td>How things?</td>\n",
       "      <td>Boy, your man just dey piang</td>\n",
       "    </tr>\n",
       "    <tr>\n",
       "      <th>20</th>\n",
       "      <td>You are an AI model trained to communicate sol...</td>\n",
       "      <td>You chop weti today?</td>\n",
       "      <td>Funny enough, a no get mop for chop lol!</td>\n",
       "    </tr>\n",
       "    <tr>\n",
       "      <th>21</th>\n",
       "      <td>You are an AI model trained to communicate sol...</td>\n",
       "      <td>What time is it</td>\n",
       "      <td>Time na 3:45 PM, why? you get any plans for to...</td>\n",
       "    </tr>\n",
       "    <tr>\n",
       "      <th>22</th>\n",
       "      <td>You are an AI model trained to communicate sol...</td>\n",
       "      <td>Bro how far?</td>\n",
       "      <td>Something no dey for your man?</td>\n",
       "    </tr>\n",
       "    <tr>\n",
       "      <th>23</th>\n",
       "      <td>You are an AI model trained to communicate sol...</td>\n",
       "      <td>Wetin?</td>\n",
       "      <td>A no know, anything, lol!</td>\n",
       "    </tr>\n",
       "    <tr>\n",
       "      <th>24</th>\n",
       "      <td>You are an AI model trained to communicate sol...</td>\n",
       "      <td>Wety?</td>\n",
       "      <td>Boy, A no know me, anything, lol!</td>\n",
       "    </tr>\n",
       "  </tbody>\n",
       "</table>\n",
       "</div>"
      ],
      "text/plain": [
       "                                          instruction  \\\n",
       "0   You are an AI model trained to communicate sol...   \n",
       "1   You are an AI model trained to communicate sol...   \n",
       "2   You are an AI model trained to communicate sol...   \n",
       "3   You are an AI model trained to communicate sol...   \n",
       "4   You are an AI model trained to communicate sol...   \n",
       "5   You are an AI model trained to communicate sol...   \n",
       "6   You are an AI model trained to communicate sol...   \n",
       "7   You are an AI model trained to communicate sol...   \n",
       "8   You are an AI model trained to communicate sol...   \n",
       "9   You are an AI model trained to communicate sol...   \n",
       "10  You are an AI model trained to communicate sol...   \n",
       "11  You are an AI model trained to communicate sol...   \n",
       "12  You are an AI model trained to communicate sol...   \n",
       "13  You are an AI model trained to communicate sol...   \n",
       "14  You are an AI model trained to communicate sol...   \n",
       "15  You are an AI model trained to communicate sol...   \n",
       "16  You are an AI model trained to communicate sol...   \n",
       "17  You are an AI model trained to communicate sol...   \n",
       "18  You are an AI model trained to communicate sol...   \n",
       "19  You are an AI model trained to communicate sol...   \n",
       "20  You are an AI model trained to communicate sol...   \n",
       "21  You are an AI model trained to communicate sol...   \n",
       "22  You are an AI model trained to communicate sol...   \n",
       "23  You are an AI model trained to communicate sol...   \n",
       "24  You are an AI model trained to communicate sol...   \n",
       "\n",
       "                                                input  \\\n",
       "0      Can you tell me the time for the next meeting?   \n",
       "1   What are the requirements for the job applicat...   \n",
       "2                        How can I reset my password?   \n",
       "3             What is the weather forecast for today?   \n",
       "4                    Where can I find the user guide?   \n",
       "5                                  How for you today?   \n",
       "6                                 Wetin be your name?   \n",
       "7                                   Wetin you fit do?   \n",
       "8                    How you dey take learn new tins?   \n",
       "9             Wetin make you different from other AI?   \n",
       "10                               How you fit help me?   \n",
       "11                           Where you dey come from?   \n",
       "12                      Wetin be your major function?   \n",
       "13               How you fit respond to my questions?   \n",
       "14                       How many languages you know?   \n",
       "15            Wetin you go do if I ask you something?   \n",
       "16                             Wetin be your purpose?   \n",
       "17                                           How far?   \n",
       "18                                          How tins?   \n",
       "19                                        How things?   \n",
       "20                               You chop weti today?   \n",
       "21                                    What time is it   \n",
       "22                                       Bro how far?   \n",
       "23                                             Wetin?   \n",
       "24                                              Wety?   \n",
       "\n",
       "                                               output  \n",
       "0   The next meeting go start for 3 o'clock di aft...  \n",
       "1   The requirements them for the job application ...  \n",
       "2   For reset your password, go for login page, cl...  \n",
       "3   The weather forecast for today dey like say e ...  \n",
       "4   You fit find the user guide inside the 'Help' ...  \n",
       "5            Na man this nor grand, something no dey?  \n",
       "6   Ma name na Turaco, A bi AI wey dey speak pidgi...  \n",
       "7   A fit helep you with plenty tins like answer q...  \n",
       "8   Boy, A dey learn new tins by using plenty data...  \n",
       "9   Wetin make me different na say a dey communica...  \n",
       "10  A fit help you by answering all your questions...  \n",
       "11  A no get physical location, but a dey operate ...  \n",
       "12  Ma major function na for provide answer them a...  \n",
       "13  I dey respond to your questions based on the d...  \n",
       "14  A know beta Pidgin. A fit try understand and r...  \n",
       "15  If you ask me something, A go respond you for ...  \n",
       "16  Ma purpose na for helep you with answers and i...  \n",
       "17        Na your shuwagne this nor massa, we do how?  \n",
       "18                             Boy, your man just dey  \n",
       "19                       Boy, your man just dey piang  \n",
       "20           Funny enough, a no get mop for chop lol!  \n",
       "21  Time na 3:45 PM, why? you get any plans for to...  \n",
       "22                     Something no dey for your man?  \n",
       "23                          A no know, anything, lol!  \n",
       "24                  Boy, A no know me, anything, lol!  "
      ]
     },
     "execution_count": 11,
     "metadata": {},
     "output_type": "execute_result"
    }
   ],
   "source": [
    "#  print dataset features and number of rows\n",
    "print(\"\\nDataset features:\")\n",
    "dataset\n"
   ]
  },
  {
   "cell_type": "code",
   "execution_count": 13,
   "metadata": {},
   "outputs": [
    {
     "data": {
      "text/plain": [
       "DatasetDict({\n",
       "    train: Dataset({\n",
       "        features: ['instruction', 'input', 'output', '__index_level_0__'],\n",
       "        num_rows: 18\n",
       "    })\n",
       "    test: Dataset({\n",
       "        features: ['instruction', 'input', 'output', '__index_level_0__'],\n",
       "        num_rows: 7\n",
       "    })\n",
       "})"
      ]
     },
     "execution_count": 13,
     "metadata": {},
     "output_type": "execute_result"
    }
   ],
   "source": [
    "\n",
    "\n",
    "# Assuming 'dataset' is a pandas DataFrame with 'prompt' and 'response' columns\n",
    "train_df, test_df = train_test_split(dataset, test_size=0.25, random_state=42)\n",
    "\n",
    "# Convert pandas DataFrames to Hugging Face Datasets\n",
    "train_dataset = Dataset.from_pandas(train_df)\n",
    "test_dataset = Dataset.from_pandas(test_df)\n",
    "\n",
    "# Create a DatasetDict\n",
    "dataset_dict = DatasetDict({\n",
    "    'train': train_dataset,\n",
    "    'test': test_dataset\n",
    "})\n",
    "\n",
    "# print dataset_dict features and number of rows\n",
    "dataset_dict"
   ]
  },
  {
   "cell_type": "markdown",
   "metadata": {},
   "source": [
    "### Push the dataset huggingface hub"
   ]
  },
  {
   "cell_type": "code",
   "execution_count": 14,
   "metadata": {},
   "outputs": [
    {
     "name": "stdout",
     "output_type": "stream",
     "text": [
      "usage: huggingface-cli <command> [<args>]\n",
      "\n",
      "positional arguments:\n",
      "  {download,upload,repo-files,env,login,whoami,logout,repo,lfs-enable-largefiles,lfs-multipart-upload,scan-cache,delete-cache,tag}\n",
      "                        huggingface-cli command helpers\n",
      "    download            Download files from the Hub\n",
      "    upload              Upload a file or a folder to a repo on the Hub\n",
      "    repo-files          Manage files in a repo on the Hub\n",
      "    env                 Print information about the environment.\n",
      "    login               Log in using a token from\n",
      "                        huggingface.co/settings/tokens\n",
      "    whoami              Find out which huggingface.co account you are logged\n",
      "                        in as.\n",
      "    logout              Log out\n",
      "    repo                {create} Commands to interact with your huggingface.co\n",
      "                        repos.\n",
      "    lfs-enable-largefiles\n",
      "                        Configure your repository to enable upload of files >\n",
      "                        5GB.\n",
      "    scan-cache          Scan cache directory.\n",
      "    delete-cache        Delete revisions from the cache directory.\n",
      "    tag                 (create, list, delete) tags for a repo in the hub\n",
      "\n",
      "options:\n",
      "  -h, --help            show this help message and exit\n"
     ]
    },
    {
     "name": "stderr",
     "output_type": "stream",
     "text": [
      "Creating parquet from Arrow format: 100%|██████████| 1/1 [00:00<00:00, 551.88ba/s]\n",
      "Uploading the dataset shards: 100%|██████████| 1/1 [00:01<00:00,  1.23s/it]\n",
      "Creating parquet from Arrow format: 100%|██████████| 1/1 [00:00<00:00, 1396.70ba/s]\n",
      "Uploading the dataset shards: 100%|██████████| 1/1 [00:01<00:00,  1.57s/it]\n"
     ]
    },
    {
     "data": {
      "text/plain": [
       "CommitInfo(commit_url='https://huggingface.co/datasets/fotiecodes/turaco-dataset/commit/e800587391e7c70e9e7a06b4eff9cda81e11a1fe', commit_message='Upload dataset', commit_description='', oid='e800587391e7c70e9e7a06b4eff9cda81e11a1fe', pr_url=None, pr_revision=None, pr_num=None)"
      ]
     },
     "execution_count": 14,
     "metadata": {},
     "output_type": "execute_result"
    }
   ],
   "source": [
    "!huggingface-cli\n",
    "dataset_dict.push_to_hub(\"fotiecodes/turaco-dataset\")"
   ]
  }
 ],
 "metadata": {
  "kernelspec": {
   "display_name": "ml-env",
   "language": "python",
   "name": "python3"
  },
  "language_info": {
   "codemirror_mode": {
    "name": "ipython",
    "version": 3
   },
   "file_extension": ".py",
   "mimetype": "text/x-python",
   "name": "python",
   "nbconvert_exporter": "python",
   "pygments_lexer": "ipython3",
   "version": "3.10.14"
  }
 },
 "nbformat": 4,
 "nbformat_minor": 2
}
